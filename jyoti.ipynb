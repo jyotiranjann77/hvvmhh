{
 "cells": [
  {
   "cell_type": "code",
   "execution_count": 1,
   "id": "66683de3",
   "metadata": {},
   "outputs": [],
   "source": [
    "import numpy as np\n",
    "import pandas as pd\n",
    "df = pd.read_csv(r\"C:\\Users\\shubh\\Downloads\\sheet.csv\")\n",
    "df.isnull().sum()\n",
    "\n",
    "df['system']=df['system'].replace('',np.nan)"
   ]
  },
  {
   "cell_type": "code",
   "execution_count": 2,
   "id": "63e7aff6",
   "metadata": {},
   "outputs": [],
   "source": [
    "df['system']=df['system'].replace('1',np.nan)"
   ]
  },
  {
   "cell_type": "code",
   "execution_count": 3,
   "id": "bdcb853c",
   "metadata": {},
   "outputs": [],
   "source": [
    "df['system'] = df['system'].fillna(method=\"ffill\")"
   ]
  },
  {
   "cell_type": "code",
   "execution_count": 4,
   "id": "e5ba3861",
   "metadata": {},
   "outputs": [
    {
     "data": {
      "text/plain": [
       "0                 AFBC\n",
       "1       Turbine System\n",
       "2       Turbine System\n",
       "3       Turbine System\n",
       "4       Turbine System\n",
       "5       Turbine System\n",
       "6       Turbine System\n",
       "7     Generator System\n",
       "8     Generator System\n",
       "9     Generator System\n",
       "10    Generator System\n",
       "11    Generator System\n",
       "12    Generator System\n",
       "13    Generator System\n",
       "14    Generator System\n",
       "15    Generator System\n",
       "16    Generator System\n",
       "Name: system, dtype: object"
      ]
     },
     "execution_count": 4,
     "metadata": {},
     "output_type": "execute_result"
    }
   ],
   "source": [
    "df['system']"
   ]
  },
  {
   "cell_type": "code",
   "execution_count": null,
   "id": "d9e377f8",
   "metadata": {},
   "outputs": [],
   "source": []
  }
 ],
 "metadata": {
  "kernelspec": {
   "display_name": "Python 3 (ipykernel)",
   "language": "python",
   "name": "python3"
  },
  "language_info": {
   "codemirror_mode": {
    "name": "ipython",
    "version": 3
   },
   "file_extension": ".py",
   "mimetype": "text/x-python",
   "name": "python",
   "nbconvert_exporter": "python",
   "pygments_lexer": "ipython3",
   "version": "3.9.12"
  }
 },
 "nbformat": 4,
 "nbformat_minor": 5
}
